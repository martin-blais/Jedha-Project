{
 "cells": [
  {
   "cell_type": "markdown",
   "metadata": {},
   "source": [
    "# Build a quiz"
   ]
  },
  {
   "cell_type": "code",
   "execution_count": 1,
   "metadata": {
    "tags": []
   },
   "outputs": [
    {
     "name": "stdin",
     "output_type": "stream",
     "text": [
      "How many times France soccer team won the World Cup? \n"
     ]
    },
    {
     "name": "stdout",
     "output_type": "stream",
     "text": [
      "Sorry, you have 2 chances left\n"
     ]
    },
    {
     "name": "stdin",
     "output_type": "stream",
     "text": [
      "How many times France soccer team won the World Cup? 2\n"
     ]
    },
    {
     "name": "stdout",
     "output_type": "stream",
     "text": [
      "\n"
     ]
    },
    {
     "name": "stdin",
     "output_type": "stream",
     "text": [
      "When Apple was founded? 1976\n"
     ]
    },
    {
     "name": "stdout",
     "output_type": "stream",
     "text": [
      "\n"
     ]
    },
    {
     "name": "stdin",
     "output_type": "stream",
     "text": [
      "Who founded SpaceX? elon musk\n"
     ]
    },
    {
     "name": "stdout",
     "output_type": "stream",
     "text": [
      "\n",
      "Well done, you have win!\n"
     ]
    }
   ],
   "source": [
    "def ask_question(nb_attempts_left, question_sentence, right_answer): # three arguments\n",
    "    if nb_attempts_left > 0:\n",
    "        answer = input(question_sentence)\n",
    "        answer = answer.lower()\n",
    "        while answer != right_answer:\n",
    "            nb_attempts_left -=1\n",
    "            print(\"Sorry, you have {} chances left\".format(nb_attempts_left))\n",
    "            if nb_attempts_left == 0:\n",
    "                print(\"Oh no, you lost the quiz...\")\n",
    "                break\n",
    "            answer = input(question_sentence)\n",
    "            answer = answer.lower()\n",
    "    print('')\n",
    "    return nb_attempts_left\n",
    "\n",
    "questions_answers_list = [\n",
    "    (\"How many times France soccer team won the World Cup?\", \"2\"),\n",
    "    (\"When Apple was founded?\", \"1976\"),\n",
    "    (\"Who founded SpaceX?\", \"elon musk\")\n",
    "]\n",
    "\n",
    "nb_attempts = 3\n",
    "\n",
    "for question, answer in questions_answers_list :\n",
    "    nb_attempts = ask_question(nb_attempts, question, answer) # calling the function\n",
    "\n",
    "if nb_attempts > 0:\n",
    "    print(\"Well done, you have win!\")"
   ]
  },
  {
   "cell_type": "code",
   "execution_count": null,
   "metadata": {},
   "outputs": [],
   "source": []
  }
 ],
 "metadata": {
  "kernelspec": {
   "display_name": "Python 3",
   "language": "python",
   "name": "python3"
  },
  "language_info": {
   "codemirror_mode": {
    "name": "ipython",
    "version": 3
   },
   "file_extension": ".py",
   "mimetype": "text/x-python",
   "name": "python",
   "nbconvert_exporter": "python",
   "pygments_lexer": "ipython3",
   "version": "3.8.5"
  }
 },
 "nbformat": 4,
 "nbformat_minor": 4
}
